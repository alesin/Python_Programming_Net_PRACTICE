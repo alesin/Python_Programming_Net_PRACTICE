{
 "cells": [
  {
   "cell_type": "markdown",
   "metadata": {},
   "source": [
    "From https://pythonprogramming.net/input-output-data-analysis-python-pandas-tutorial/"
   ]
  },
  {
   "cell_type": "markdown",
   "metadata": {},
   "source": [
    "IMPORTS"
   ]
  },
  {
   "cell_type": "code",
   "execution_count": 2,
   "metadata": {
    "collapsed": true
   },
   "outputs": [],
   "source": [
    "import pandas as pd\n",
    "import datetime\n",
    "#import pandas.io.data as web\n",
    "#from pandas_datareader import data, web\n",
    "\n",
    "import matplotlib.pyplot as plt\n",
    "from matplotlib import style\n",
    "\n",
    "#style used on website\n",
    "style.use('fivethirtyeight')"
   ]
  },
  {
   "cell_type": "code",
   "execution_count": 6,
   "metadata": {},
   "outputs": [
    {
     "name": "stdout",
     "output_type": "stream",
     "text": [
      "         Date  Value\n",
      "0  2017-08-31  4.392\n",
      "1  2017-07-31  4.398\n",
      "2  2017-06-30  4.414\n",
      "3  2017-05-31  4.432\n",
      "4  2017-04-30  4.450\n"
     ]
    }
   ],
   "source": [
    "df = pd.read_csv('/home/alesin/Documents/AnacondaProjects/PythonProgramming_net/Data_Analysis_with_Python_and_Pandas/Datasets/Zillow_Rental_Index_Per_Square_Foot-All_Homes-94109.csv')\n",
    "print(df.head())"
   ]
  },
  {
   "cell_type": "code",
   "execution_count": 11,
   "metadata": {},
   "outputs": [
    {
     "name": "stdout",
     "output_type": "stream",
     "text": [
      "            Value\n",
      "Date             \n",
      "2017-08-31  4.392\n",
      "2017-07-31  4.398\n",
      "2017-06-30  4.414\n",
      "2017-05-31  4.432\n",
      "2017-04-30  4.450\n"
     ]
    }
   ],
   "source": [
    "#creates new data frame indexed by the date\n",
    "df_indexed_by_date = df.set_index('Date')\n",
    "print(df_indexed_by_date.head())"
   ]
  },
  {
   "cell_type": "code",
   "execution_count": null,
   "metadata": {
    "collapsed": true
   },
   "outputs": [],
   "source": [
    "#another option is to set the index upon import [example = csv indexed to first column in data]\n",
    "#df_auto_index = pd.read_csv('zillow_rental_value.csv', index_col=0)\n",
    "#print(df_auto_index.head())"
   ]
  },
  {
   "cell_type": "markdown",
   "metadata": {},
   "source": [
    "The Zillow Home Value Index is Zillow's estimate of the median market value of zillow rental index per square foot - all homes within the zip of 94109, San Francisco, CA. This data is calculated by Zillow Real Estate Research (www.zillow.com/research) using their database of 110 million homes."
   ]
  },
  {
   "cell_type": "code",
   "execution_count": 13,
   "metadata": {},
   "outputs": [
    {
     "name": "stdout",
     "output_type": "stream",
     "text": [
      "            Rent_Per_SqFt\n",
      "Date                     \n",
      "2017-08-31          4.392\n",
      "2017-07-31          4.398\n",
      "2017-06-30          4.414\n",
      "2017-05-31          4.432\n",
      "2017-04-30          4.450\n"
     ]
    }
   ],
   "source": [
    "df_indexed_by_date.columns = ['Rent_Per_SqFt']\n",
    "print(df_indexed_by_date.head())"
   ]
  },
  {
   "cell_type": "code",
   "execution_count": 14,
   "metadata": {
    "collapsed": true
   },
   "outputs": [],
   "source": [
    "#save to csv\n",
    "df_indexed_by_date.to_csv('/home/alesin/Documents/AnacondaProjects/PythonProgramming_net/Data_Analysis_with_Python_and_Pandas/Datasets/94109_new_with_headers.csv')"
   ]
  },
  {
   "cell_type": "code",
   "execution_count": 15,
   "metadata": {
    "collapsed": true
   },
   "outputs": [],
   "source": [
    "#save to csv without headers\n",
    "df_indexed_by_date.to_csv('new_csv_without_header.csv', header=False)"
   ]
  },
  {
   "cell_type": "code",
   "execution_count": null,
   "metadata": {
    "collapsed": true
   },
   "outputs": [],
   "source": [
    "#import a csv without a header, provide header names, and index by a column\n",
    "df = pd.read_csv('new_csv_without_header.csv', names = ['Date','House_Price'], index_col=0)\n",
    "print(df.head())"
   ]
  },
  {
   "cell_type": "code",
   "execution_count": null,
   "metadata": {
    "collapsed": true
   },
   "outputs": [],
   "source": [
    "#export to html\n",
    "df_indexed_by_date.to_html('new_html_table.html')"
   ]
  },
  {
   "cell_type": "markdown",
   "metadata": {},
   "source": [
    "EXAMPLE-- what if we want to actually rename just one of the columns?"
   ]
  },
  {
   "cell_type": "code",
   "execution_count": null,
   "metadata": {
    "collapsed": true
   },
   "outputs": [],
   "source": [
    "df = pd.read_csv('zillow_rental_94109.csv', names = ['Date','House_Price'])\n",
    "print(df.head())\n",
    "\n",
    "df.rename(columns={'House_Price':'Prices'}, inplace=True)\n",
    "print(df.head())"
   ]
  },
  {
   "cell_type": "code",
   "execution_count": 16,
   "metadata": {},
   "outputs": [
    {
     "name": "stdout",
     "output_type": "stream",
     "text": [
      "            94109_RPI\n",
      "Date                 \n",
      "2017-08-31      4.392\n",
      "2017-07-31      4.398\n",
      "2017-06-30      4.414\n",
      "2017-05-31      4.432\n",
      "2017-04-30      4.450\n"
     ]
    }
   ],
   "source": [
    "#rename columns since we'll be working with multiple datasets\n",
    "df_indexed_by_date.columns = ['94109_RPI']\n",
    "print(df_indexed_by_date.head())"
   ]
  },
  {
   "cell_type": "code",
   "execution_count": null,
   "metadata": {
    "collapsed": true
   },
   "outputs": [],
   "source": [
    "#alternative renaming code\n",
    "df_indexed_by_date.rename(columns={'94109_RPI':'SF_Rent'}, inplace=True)\n",
    "print(df_indexed_by_date.head())"
   ]
  }
 ],
 "metadata": {
  "kernelspec": {
   "display_name": "Python 3",
   "language": "python",
   "name": "python3"
  },
  "language_info": {
   "codemirror_mode": {
    "name": "ipython",
    "version": 3
   },
   "file_extension": ".py",
   "mimetype": "text/x-python",
   "name": "python",
   "nbconvert_exporter": "python",
   "pygments_lexer": "ipython3",
   "version": "3.6.1"
  }
 },
 "nbformat": 4,
 "nbformat_minor": 2
}
